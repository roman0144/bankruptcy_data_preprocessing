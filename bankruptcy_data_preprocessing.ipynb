{
 "cells": [
  {
   "cell_type": "code",
   "execution_count": 149,
   "id": "e587e44a-648c-4aba-8c9f-fd97330fe1e0",
   "metadata": {},
   "outputs": [],
   "source": [
    "# Описание данных\n",
    "# Данный набор содержит финансовые показатели 5909 компаний за пятый год прогнозного периода.\n",
    "# Целевой признак: 'банкротство' (64-й столбец), где:\n",
    "#   0 — компания не обанкротилась 93.06%\n",
    "#   1 — компания обанкротилась 6.93%\n",
    "# Признаки: 63 метрики, но не подписано что они значат.\n",
    "# Пропущенных значений 1.21%, в каждом столбце пропусков менее 2%, за исключением 36-го, где пропущено ~50% значений.\n",
    "\n",
    "# Цель проекта\n",
    "# Основная цель: продемонстрировать навыки предподготовки данных для портфолио аналитика данных.\n",
    "# Задачи:\n",
    "# - Очистка данных, обработка пропусков и выбросов.\n",
    "# - Анализ важности признаков и устранение коррелирующих метрик.\n",
    "# - Приведение данных к виду, пригодному для использования в моделях машинного обучения.\n",
    "# Итог: обработанные данные могут быть использованы для построения моделей прогнозирования банкротства."
   ]
  },
  {
   "cell_type": "code",
   "execution_count": 89,
   "id": "226cfd78-a6c7-4801-8237-0e70b9137556",
   "metadata": {},
   "outputs": [],
   "source": [
    "# Работа с данными\n",
    "import pandas as pd\n",
    "import numpy as np\n",
    "\n",
    "# Визуализация\n",
    "import matplotlib.pyplot as plt\n",
    "\n",
    "# Установки (опционально, можно удалить, если не нужны)\n",
    "# !pip install scipy\n",
    "\n",
    "# Статистическая обработка и предобработка\n",
    "from scipy import stats\n",
    "from scipy.io import arff\n",
    "from sklearn.preprocessing import RobustScaler, StandardScaler\n",
    "\n",
    "# Модели и анализ\n",
    "from sklearn.model_selection import train_test_split\n",
    "from sklearn.ensemble import RandomForestClassifier\n",
    "from sklearn.feature_selection import SelectFromModel\n",
    "from sklearn.cross_decomposition import PLSRegression\n",
    "from sklearn.cluster import KMeans\n",
    "\n",
    "# Метрики\n",
    "from sklearn.metrics import mean_squared_error\n",
    "\n",
    "# Данный проект протестирован с библиотеками следующих версий:\n",
    "#pandas==2.2.2\n",
    "#numpy==1.26.4\n",
    "#scipy==1.14.1\n",
    "#matplotlib==3.9.2\n",
    "#scikit-learn==1.5.2\n",
    "# Использование других версий библиотек может привести к отличным результатам."
   ]
  },
  {
   "cell_type": "code",
   "execution_count": 90,
   "id": "0c44c1dd-cde2-49e3-854b-b347de791d4b",
   "metadata": {},
   "outputs": [],
   "source": [
    "#pip freeze > requirements.txt\n",
    "#print(f\"pandas=={pd.__version__}\")\n",
    "#print(f\"numpy=={np.__version__}\")\n",
    "#import sklearn #модули не содержат информации о версии библиотеки, поэтому важно импортировать именно корневой модуль\n",
    "#import scipy\n",
    "#import matplotlib\n",
    "#print(f\"scipy=={scipy.__version__}\")\n",
    "#print(f\"matplotlib=={matplotlib.__version__}\")\n",
    "#print(f\"scikit-learn=={sklearn.__version__}\")"
   ]
  },
  {
   "cell_type": "code",
   "execution_count": 91,
   "id": "d4a01944-e6e8-452a-a18b-a86b1fa1509f",
   "metadata": {},
   "outputs": [],
   "source": [
    "data = arff.loadarff('5year.arff')\n",
    "dat = pd.DataFrame(data)"
   ]
  },
  {
   "cell_type": "code",
   "execution_count": 92,
   "id": "25aa357a-97cd-4501-b4d7-10e4677ad599",
   "metadata": {},
   "outputs": [
    {
     "name": "stdout",
     "output_type": "stream",
     "text": [
      "<bound method NDFrame.head of                                                 0     \\\n",
      "0  [0.088238, 0.55472, 0.01134, 1.0205, -66.52, 0...   \n",
      "1                                              Attr1   \n",
      "\n",
      "                                                1     \\\n",
      "0  [-0.006202, 0.48465, 0.23298, 1.5998, 6.1825, ...   \n",
      "1                                              Attr2   \n",
      "\n",
      "                                                2     \\\n",
      "0  [0.13024, 0.22142, 0.57751, 3.6082, 120.04, 0....   \n",
      "1                                              Attr3   \n",
      "\n",
      "                                                3     \\\n",
      "0  [-0.089951, 0.887, 0.26927, 1.5222, -55.992, -...   \n",
      "1                                              Attr4   \n",
      "\n",
      "                                                4     \\\n",
      "0  [0.048179, 0.55041, 0.10765, 1.2437, -22.959, ...   \n",
      "1                                              Attr5   \n",
      "\n",
      "                                                5     \\\n",
      "0  [0.23156, 0.51047, 0.47291, 1.9393, 15.102, 0....   \n",
      "1                                              Attr6   \n",
      "\n",
      "                                                6     \\\n",
      "0  [0.099486, 0.59991, 0.37489, 1.6529, 19.036, 0...   \n",
      "1                                              Attr7   \n",
      "\n",
      "                                                7     \\\n",
      "0  [0.078518, 0.20546, 0.10393, 2.7939, 77.784, 0...   \n",
      "1                                              Attr8   \n",
      "\n",
      "                                                8     \\\n",
      "0  [0.12504, 0.3544, 0.31419, 2.7127, 17.942, 0.3...   \n",
      "1                                              Attr9   \n",
      "\n",
      "                                                9     ...  \\\n",
      "0  [0.29343, 0.58649, 0.083392, 1.1694, -55.152, ...  ...   \n",
      "1                                             Attr10  ...   \n",
      "\n",
      "                                                5900  \\\n",
      "0  [0.36147, 0.2559, 0.56276, 9.7593, 205.98, -0....   \n",
      "1                                               None   \n",
      "\n",
      "                                                5901  \\\n",
      "0  [-0.084381, 0.22485, 0.097051, 1.4316, -119.22...   \n",
      "1                                               None   \n",
      "\n",
      "                                                5902  \\\n",
      "0  [0.059436, 0.54161, 0.37672, 2.0192, 26.665, -...   \n",
      "1                                               None   \n",
      "\n",
      "                                                5903  \\\n",
      "0  [-0.076836, 0.51194, 0.1966, 1.3859, -133.38, ...   \n",
      "1                                               None   \n",
      "\n",
      "                                                5904  \\\n",
      "0  [-0.28338, 0.97794, -0.12514, 0.64902, -56.126...   \n",
      "1                                               None   \n",
      "\n",
      "                                                5905  \\\n",
      "0  [0.012898, 0.70621, 0.038857, 1.1722, -18.907,...   \n",
      "1                                               None   \n",
      "\n",
      "                                                5906  \\\n",
      "0  [-0.57805, 0.96702, -0.80085, 0.16576, -67.365...   \n",
      "1                                               None   \n",
      "\n",
      "                                                5907  \\\n",
      "0  [-0.17905, 1.2553, -0.27599, 0.74554, -120.44,...   \n",
      "1                                               None   \n",
      "\n",
      "                                                5908  \\\n",
      "0  [-0.10886, 0.74394, 0.015449, 1.0878, -17.003,...   \n",
      "1                                               None   \n",
      "\n",
      "                                                5909  \n",
      "0  [-0.10537, 0.53629, -0.045578, 0.91478, -56.06...  \n",
      "1                                               None  \n",
      "\n",
      "[2 rows x 5910 columns]>\n"
     ]
    }
   ],
   "source": [
    "print(dat.head)"
   ]
  },
  {
   "cell_type": "code",
   "execution_count": 93,
   "id": "5a1bf1fb-ce97-4ccb-930a-29d6f4107b5b",
   "metadata": {},
   "outputs": [],
   "source": [
    "dat = dat.drop(index=1)\n",
    "dat = dat.map(str)\n",
    "dat = dat.apply(lambda col: col.str.strip('()').str.split(','))\n",
    "dat = dat.apply(pd.Series.explode)"
   ]
  },
  {
   "cell_type": "code",
   "execution_count": 94,
   "id": "a9b38d35-7ebe-4fa9-a064-747482e10a48",
   "metadata": {},
   "outputs": [
    {
     "name": "stdout",
     "output_type": "stream",
     "text": [
      "<bound method NDFrame.head of         0          1         2          3         4         5         6     \\\n",
      "0   0.088238  -0.006202   0.13024  -0.089951  0.048179   0.23156  0.099486   \n",
      "0    0.55472    0.48465   0.22142      0.887   0.55041   0.51047   0.59991   \n",
      "0    0.01134    0.23298   0.57751    0.26927   0.10765   0.47291   0.37489   \n",
      "0     1.0205     1.5998    3.6082     1.5222    1.2437    1.9393    1.6529   \n",
      "0     -66.52     6.1825    120.04    -55.992   -22.959    15.102    19.036   \n",
      "..       ...        ...       ...        ...       ...       ...       ...   \n",
      "0     4.7343     3.2749     2.987     3.3302     4.095     4.922    2.4784   \n",
      "0     142.76     111.14    71.531     147.56    106.43    102.58    130.02   \n",
      "0     2.5568     3.2841    5.1027     2.4735    3.4294    3.5581    2.8072   \n",
      "0     3.2597       3.37    5.6188     5.9299    3.3622    75.941    31.645   \n",
      "0       b'0'       b'0'      b'0'       b'0'      b'0'      b'0'      b'0'   \n",
      "\n",
      "        7         8          9     ...      5900       5901      5902  \\\n",
      "0   0.078518   0.12504    0.29343  ...   0.36147  -0.084381  0.059436   \n",
      "0    0.20546    0.3544    0.58649  ...    0.2559    0.22485   0.54161   \n",
      "0    0.10393   0.31419   0.083392  ...   0.56276   0.097051   0.37672   \n",
      "0     2.7939    2.7127     1.1694  ...    9.7593     1.4316    2.0192   \n",
      "0     77.784    17.942    -55.152  ...    205.98    -119.22    26.665   \n",
      "..       ...       ...        ...  ...       ...        ...       ...   \n",
      "0     3.1692    5.7479     5.5104  ...    8.7628     8.8316    4.3093   \n",
      "0     53.575    59.841      109.7  ...    39.557     226.37    59.584   \n",
      "0     6.8129    6.0995     3.3273  ...    9.2272     1.6124    6.1258   \n",
      "0    0.47096    2.2274     3.8582  ...    1.5902    0.53491    8.9302   \n",
      "0       b'0'      b'0'       b'0'  ...      b'1'       b'1'      b'1'   \n",
      "\n",
      "         5903       5904       5905       5906       5907       5908  \\\n",
      "0   -0.076836   -0.28338   0.012898   -0.57805   -0.17905   -0.10886   \n",
      "0     0.51194    0.97794    0.70621    0.96702     1.2553    0.74394   \n",
      "0      0.1966   -0.12514   0.038857   -0.80085   -0.27599   0.015449   \n",
      "0      1.3859    0.64902     1.1722    0.16576    0.74554     1.0878   \n",
      "0     -133.38    -56.126    -18.907    -67.365    -120.44    -17.003   \n",
      "..        ...        ...        ...        ...        ...        ...   \n",
      "0       21.37     16.691     12.432     44.759     3.4892     6.0769   \n",
      "0       155.1     93.338     49.117      81.22     207.87     83.122   \n",
      "0      2.3534     3.9105     7.4313      4.494     1.7559     4.3911   \n",
      "0      4.0777     1.8143     2.2799     5.1305     9.9527    0.95575   \n",
      "0        b'1'       b'1'       b'1'       b'1'       b'1'       b'1'   \n",
      "\n",
      "          5909  \n",
      "0     -0.10537  \n",
      "0      0.53629  \n",
      "0    -0.045578  \n",
      "0      0.91478  \n",
      "0      -56.068  \n",
      "..         ...  \n",
      "0       4.7174  \n",
      "0       136.85  \n",
      "0       2.6672  \n",
      "0       2.7927  \n",
      "0         b'1'  \n",
      "\n",
      "[65 rows x 5910 columns]>\n"
     ]
    }
   ],
   "source": [
    "print(dat.head)"
   ]
  },
  {
   "cell_type": "code",
   "execution_count": 95,
   "id": "35ff9ae9-3168-42ae-a4b4-7f3361f2c636",
   "metadata": {},
   "outputs": [],
   "source": [
    "dat = dat.reset_index(drop=True)"
   ]
  },
  {
   "cell_type": "code",
   "execution_count": 96,
   "id": "2b48d97b-d55b-40da-9b56-5d159108eb37",
   "metadata": {},
   "outputs": [
    {
     "name": "stdout",
     "output_type": "stream",
     "text": [
      "Пропущенные значения после обработки:\n",
      "0\n"
     ]
    }
   ],
   "source": [
    "print(\"Пропущенные значения после обработки:\")\n",
    "print(dat.isna().sum().sum())"
   ]
  },
  {
   "cell_type": "code",
   "execution_count": 97,
   "id": "ff027587-e31f-4156-a223-fcd8cb0e077f",
   "metadata": {},
   "outputs": [
    {
     "data": {
      "text/plain": [
       "0       object\n",
       "1       object\n",
       "2       object\n",
       "3       object\n",
       "4       object\n",
       "         ...  \n",
       "5905    object\n",
       "5906    object\n",
       "5907    object\n",
       "5908    object\n",
       "5909    object\n",
       "Length: 5910, dtype: object"
      ]
     },
     "execution_count": 97,
     "metadata": {},
     "output_type": "execute_result"
    }
   ],
   "source": [
    "dat.dtypes"
   ]
  },
  {
   "cell_type": "code",
   "execution_count": 98,
   "id": "62bc7e8a-cd0d-496e-9bf6-bec590412a28",
   "metadata": {},
   "outputs": [],
   "source": [
    "dat = dat.map(lambda x: str(x).replace(\"b'\", \"\").replace(\"'\", \"\"))\n",
    "dat = dat.replace('nan', pd.NA).replace(' nan', pd.NA) \n",
    "#на всякий решил не использовать dat[column] = pd.to_numeric(dat[column], errors='coerce') и таким перебором проверил на что он ругается\n",
    "\n",
    "# Преобразуем все столбцы в числовой формат\n",
    "for column in dat.columns:\n",
    "    dat[column] = pd.to_numeric(dat[column])"
   ]
  },
  {
   "cell_type": "code",
   "execution_count": 99,
   "id": "7a4bc328-b264-4794-8453-9cfcc22a42c6",
   "metadata": {},
   "outputs": [
    {
     "name": "stdout",
     "output_type": "stream",
     "text": [
      "Пропущенные значения по каждому столбцу:\n",
      "0       0\n",
      "1       1\n",
      "2       1\n",
      "3       1\n",
      "4       0\n",
      "       ..\n",
      "5905    0\n",
      "5906    1\n",
      "5907    1\n",
      "5908    1\n",
      "5909    1\n",
      "Length: 5910, dtype: int64\n",
      "\n",
      "Общее количество пропущенных значений:\n",
      "4666\n",
      "\n",
      "Общий процент пропусков:\n",
      "1.21 %\n"
     ]
    }
   ],
   "source": [
    "print(\"Пропущенные значения по каждому столбцу:\")\n",
    "print(dat.isna().sum())\n",
    "\n",
    "print(\"\\nОбщее количество пропущенных значений:\")\n",
    "print(dat.isna().sum().sum())\n",
    "\n",
    "print(\"\\nОбщий процент пропусков:\")\n",
    "print(round(dat.isna().mean().mean() * 100, 2), \"%\")"
   ]
  },
  {
   "cell_type": "code",
   "execution_count": 100,
   "id": "21b3ec14-244e-4d20-b0da-e05ffc21ea85",
   "metadata": {},
   "outputs": [
    {
     "name": "stdout",
     "output_type": "stream",
     "text": [
      "\n",
      "Пропущенные значения по каждой строке (отсортировано по убыванию):\n",
      "36    2548\n",
      "26     391\n",
      "44     268\n",
      "59     268\n",
      "23     135\n",
      "      ... \n",
      "41       0\n",
      "29       0\n",
      "30       0\n",
      "38       0\n",
      "64       0\n",
      "Length: 65, dtype: int64\n"
     ]
    }
   ],
   "source": [
    "print(\"\\nПропущенные значения по каждой строке (отсортировано по убыванию):\")\n",
    "print(dat.isna().sum(axis=1).sort_values(ascending=False))"
   ]
  },
  {
   "cell_type": "code",
   "execution_count": 101,
   "id": "d511828f-2f51-4073-8d58-810bb1c234f0",
   "metadata": {},
   "outputs": [
    {
     "name": "stdout",
     "output_type": "stream",
     "text": [
      "0       571.37000\n",
      "1         5.25190\n",
      "2             NaN\n",
      "3         1.90050\n",
      "4         6.37830\n",
      "          ...    \n",
      "5905      0.37850\n",
      "5906     17.03600\n",
      "5907      3.60650\n",
      "5908      0.23908\n",
      "5909    205.69000\n",
      "Name: 36, Length: 5910, dtype: float64\n"
     ]
    }
   ],
   "source": [
    "print(dat.iloc[36, :])"
   ]
  },
  {
   "cell_type": "code",
   "execution_count": 102,
   "id": "c6917ca1-a46e-46a2-bd62-6688e554a3e0",
   "metadata": {},
   "outputs": [],
   "source": [
    "dat = dat.transpose()"
   ]
  },
  {
   "cell_type": "code",
   "execution_count": 147,
   "id": "d742d726-b9a1-4583-a806-1b28fb09a02d",
   "metadata": {},
   "outputs": [],
   "source": [
    "#print(dat.iloc[:, -1].value_counts(normalize=True) * 100) #процент банкротов для введения"
   ]
  },
  {
   "cell_type": "code",
   "execution_count": 104,
   "id": "24934fc6-19a2-46f5-8a3c-aac021972863",
   "metadata": {},
   "outputs": [],
   "source": [
    "#Чтобы выбрать метод точнее, решил выбрать между PLS и кластерами. Но для PLS пропуски должны быть уже заполнены, так что заполню их в копии. \n",
    "#Нарисовал графики чтобы выбрать между KNN, средней и медианой.\n",
    "\n",
    "#missing_cols = dat.columns[dat.isna().any()]  # Колонки с пропусками\n",
    "# Строим гистограммы для каждого признака с пропусками\n",
    "#for col in missing_cols:\n",
    "    #plt.figure(figsize=(8, 5))\n",
    "    #plt.hist(dat[col].dropna(), bins=5000, edgecolor='k')  # Убираем NaN для корректного отображения\n",
    "    #plt.title(f'Гистограмма для признака {col}')\n",
    "    #plt.xlabel(col)\n",
    "    #plt.ylabel('Частота')\n",
    "    #plt.show()"
   ]
  },
  {
   "cell_type": "code",
   "execution_count": 105,
   "id": "67289b96-90a5-4b0a-96b0-8012399f45b1",
   "metadata": {},
   "outputs": [
    {
     "data": {
      "image/png": "[encoded data removed]",
      "text/plain": [
       "<Figure size 800x500 with 1 Axes>"
      ]
     },
     "metadata": {},
     "output_type": "display_data"
    },
    {
     "data": {
      "image/png": "[encoded data removed]",
      "text/plain": [
       "<Figure size 800x500 with 1 Axes>"
      ]
     },
     "metadata": {},
     "output_type": "display_data"
    },
    {
     "data": {
      "image/png": "[encoded data removed]",
      "text/plain": [
       "<Figure size 800x500 with 1 Axes>"
      ]
     },
     "metadata": {},
     "output_type": "display_data"
    },
    {
     "data": {
      "image/png": "[encoded data removed]",
      "text/plain": [
       "<Figure size 800x500 with 1 Axes>"
      ]
     },
     "metadata": {},
     "output_type": "display_data"
    }
   ],
   "source": [
    "#Выбрал несколько коллонок для примера, что выбросы есть и среднее не подходит доже для 28\n",
    "#Все грузились бы долго так как bins=5000, а на bins=30 и 100 было незаметно\n",
    "for col in [0, 8, 28, 37]:\n",
    "    plt.figure(figsize=(8, 5))\n",
    "    plt.hist(dat[col].dropna(), bins=5000, edgecolor='k')  # Убираем NaN для корректного отображения\n",
    "    plt.title(f'Гистограмма для признака {col}')\n",
    "    plt.xlabel(f'Признак {col}')\n",
    "    plt.ylabel('Частота')\n",
    "    plt.show()"
   ]
  },
  {
   "cell_type": "code",
   "execution_count": 106,
   "id": "ca2fd94e-e752-4fb6-a04f-8d6572683f21",
   "metadata": {},
   "outputs": [],
   "source": [
    "dat_copy = dat.copy()\n",
    "dat_copy = dat_copy.fillna(dat_copy.median())"
   ]
  },
  {
   "cell_type": "code",
   "execution_count": 107,
   "id": "a2c20f7e-6be9-4f82-a67c-83f7f41366d6",
   "metadata": {},
   "outputs": [
    {
     "name": "stdout",
     "output_type": "stream",
     "text": [
      "Пропущенные значения по каждому столбцу:\n",
      "0\n"
     ]
    }
   ],
   "source": [
    "print(\"Пропущенные значения по каждому столбцу:\")\n",
    "print(dat_copy.isna().sum().sum())"
   ]
  },
  {
   "cell_type": "code",
   "execution_count": 108,
   "id": "8e14ebae-48d6-4eea-8ed3-4b7a9f9cbc32",
   "metadata": {},
   "outputs": [
    {
     "data": {
      "text/html": [
       "<style>#sk-container-id-2 {\n",
       "  /* Definition of color scheme common for light and dark mode */\n",
       "  --sklearn-color-text: black;\n",
       "  --sklearn-color-line: gray;\n",
       "  /* Definition of color scheme for unfitted estimators */\n",
       "  --sklearn-color-unfitted-level-0: #fff5e6;\n",
       "  --sklearn-color-unfitted-level-1: #f6e4d2;\n",
       "  --sklearn-color-unfitted-level-2: #ffe0b3;\n",
       "  --sklearn-color-unfitted-level-3: chocolate;\n",
       "  /* Definition of color scheme for fitted estimators */\n",
       "  --sklearn-color-fitted-level-0: #f0f8ff;\n",
       "  --sklearn-color-fitted-level-1: #d4ebff;\n",
       "  --sklearn-color-fitted-level-2: #b3dbfd;\n",
       "  --sklearn-color-fitted-level-3: cornflowerblue;\n",
       "\n",
       "  /* Specific color for light theme */\n",
       "  --sklearn-color-text-on-default-background: var(--sg-text-color, var(--theme-code-foreground, var(--jp-content-font-color1, black)));\n",
       "  --sklearn-color-background: var(--sg-background-color, var(--theme-background, var(--jp-layout-color0, white)));\n",
       "  --sklearn-color-border-box: var(--sg-text-color, var(--theme-code-foreground, var(--jp-content-font-color1, black)));\n",
       "  --sklearn-color-icon: #696969;\n",
       "\n",
       "  @media (prefers-color-scheme: dark) {\n",
       "    /* Redefinition of color scheme for dark theme */\n",
       "    --sklearn-color-text-on-default-background: var(--sg-text-color, var(--theme-code-foreground, var(--jp-content-font-color1, white)));\n",
       "    --sklearn-color-background: var(--sg-background-color, var(--theme-background, var(--jp-layout-color0, #111)));\n",
       "    --sklearn-color-border-box: var(--sg-text-color, var(--theme-code-foreground, var(--jp-content-font-color1, white)));\n",
       "    --sklearn-color-icon: #878787;\n",
       "  }\n",
       "}\n",
       "\n",
       "#sk-container-id-2 {\n",
       "  color: var(--sklearn-color-text);\n",
       "}\n",
       "\n",
       "#sk-container-id-2 pre {\n",
       "  padding: 0;\n",
       "}\n",
       "\n",
       "#sk-container-id-2 input.sk-hidden--visually {\n",
       "  border: 0;\n",
       "  clip: rect(1px 1px 1px 1px);\n",
       "  clip: rect(1px, 1px, 1px, 1px);\n",
       "  height: 1px;\n",
       "  margin: -1px;\n",
       "  overflow: hidden;\n",
       "  padding: 0;\n",
       "  position: absolute;\n",
       "  width: 1px;\n",
       "}\n",
       "\n",
       "#sk-container-id-2 div.sk-dashed-wrapped {\n",
       "  border: 1px dashed var(--sklearn-color-line);\n",
       "  margin: 0 0.4em 0.5em 0.4em;\n",
       "  box-sizing: border-box;\n",
       "  padding-bottom: 0.4em;\n",
       "  background-color: var(--sklearn-color-background);\n",
       "}\n",
       "\n",
       "#sk-container-id-2 div.sk-container {\n",
       "  /* jupyter's `normalize.less` sets `[hidden] { display: none; }`\n",
       "     but bootstrap.min.css set `[hidden] { display: none !important; }`\n",
       "     so we also need the `!important` here to be able to override the\n",
       "     default hidden behavior on the sphinx rendered scikit-learn.org.\n",
       "     See: https://github.com/scikit-learn/scikit-learn/issues/21755 */\n",
       "  display: inline-block !important;\n",
       "  position: relative;\n",
       "}\n",
       "\n",
       "#sk-container-id-2 div.sk-text-repr-fallback {\n",
       "  display: none;\n",
       "}\n",
       "\n",
       "div.sk-parallel-item,\n",
       "div.sk-serial,\n",
       "div.sk-item {\n",
       "  /* draw centered vertical line to link estimators */\n",
       "  background-image: linear-gradient(var(--sklearn-color-text-on-default-background), var(--sklearn-color-text-on-default-background));\n",
       "  background-size: 2px 100%;\n",
       "  background-repeat: no-repeat;\n",
       "  background-position: center center;\n",
       "}\n",
       "\n",
       "/* Parallel-specific style estimator block */\n",
       "\n",
       "#sk-container-id-2 div.sk-parallel-item::after {\n",
       "  content: \"\";\n",
       "  width: 100%;\n",
       "  border-bottom: 2px solid var(--sklearn-color-text-on-default-background);\n",
       "  flex-grow: 1;\n",
       "}\n",
       "\n",
       "#sk-container-id-2 div.sk-parallel {\n",
       "  display: flex;\n",
       "  align-items: stretch;\n",
       "  justify-content: center;\n",
       "  background-color: var(--sklearn-color-background);\n",
       "  position: relative;\n",
       "}\n",
       "\n",
       "#sk-container-id-2 div.sk-parallel-item {\n",
       "  display: flex;\n",
       "  flex-direction: column;\n",
       "}\n",
       "\n",
       "#sk-container-id-2 div.sk-parallel-item:first-child::after {\n",
       "  align-self: flex-end;\n",
       "  width: 50%;\n",
       "}\n",
       "\n",
       "#sk-container-id-2 div.sk-parallel-item:last-child::after {\n",
       "  align-self: flex-start;\n",
       "  width: 50%;\n",
       "}\n",
       "\n",
       "#sk-container-id-2 div.sk-parallel-item:only-child::after {\n",
       "  width: 0;\n",
       "}\n",
       "\n",
       "/* Serial-specific style estimator block */\n",
       "\n",
       "#sk-container-id-2 div.sk-serial {\n",
       "  display: flex;\n",
       "  flex-direction: column;\n",
       "  align-items: center;\n",
       "  background-color: var(--sklearn-color-background);\n",
       "  padding-right: 1em;\n",
       "  padding-left: 1em;\n",
       "}\n",
       "\n",
       "\n",
       "/* Toggleable style: style used for estimator/Pipeline/ColumnTransformer box that is\n",
       "clickable and can be expanded/collapsed.\n",
       "- Pipeline and ColumnTransformer use this feature and define the default style\n",
       "- Estimators will overwrite some part of the style using the `sk-estimator` class\n",
       "*/\n",
       "\n",
       "/* Pipeline and ColumnTransformer style (default) */\n",
       "\n",
       "#sk-container-id-2 div.sk-toggleable {\n",
       "  /* Default theme specific background. It is overwritten whether we have a\n",
       "  specific estimator or a Pipeline/ColumnTransformer */\n",
       "  background-color: var(--sklearn-color-background);\n",
       "}\n",
       "\n",
       "/* Toggleable label */\n",
       "#sk-container-id-2 label.sk-toggleable__label {\n",
       "  cursor: pointer;\n",
       "  display: block;\n",
       "  width: 100%;\n",
       "  margin-bottom: 0;\n",
       "  padding: 0.5em;\n",
       "  box-sizing: border-box;\n",
       "  text-align: center;\n",
       "}\n",
       "\n",
       "#sk-container-id-2 label.sk-toggleable__label-arrow:before {\n",
       "  /* Arrow on the left of the label */\n",
       "  content: \"▸\";\n",
       "  float: left;\n",
       "  margin-right: 0.25em;\n",
       "  color: var(--sklearn-color-icon);\n",
       "}\n",
       "\n",
       "#sk-container-id-2 label.sk-toggleable__label-arrow:hover:before {\n",
       "  color: var(--sklearn-color-text);\n",
       "}\n",
       "\n",
       "/* Toggleable content - dropdown */\n",
       "\n",
       "#sk-container-id-2 div.sk-toggleable__content {\n",
       "  max-height: 0;\n",
       "  max-width: 0;\n",
       "  overflow: hidden;\n",
       "  text-align: left;\n",
       "  /* unfitted */\n",
       "  background-color: var(--sklearn-color-unfitted-level-0);\n",
       "}\n",
       "\n",
       "#sk-container-id-2 div.sk-toggleable__content.fitted {\n",
       "  /* fitted */\n",
       "  background-color: var(--sklearn-color-fitted-level-0);\n",
       "}\n",
       "\n",
       "#sk-container-id-2 div.sk-toggleable__content pre {\n",
       "  margin: 0.2em;\n",
       "  border-radius: 0.25em;\n",
       "  color: var(--sklearn-color-text);\n",
       "  /* unfitted */\n",
       "  background-color: var(--sklearn-color-unfitted-level-0);\n",
       "}\n",
       "\n",
       "#sk-container-id-2 div.sk-toggleable__content.fitted pre {\n",
       "  /* unfitted */\n",
       "  background-color: var(--sklearn-color-fitted-level-0);\n",
       "}\n",
       "\n",
       "#sk-container-id-2 input.sk-toggleable__control:checked~div.sk-toggleable__content {\n",
       "  /* Expand drop-down */\n",
       "  max-height: 200px;\n",
       "  max-width: 100%;\n",
       "  overflow: auto;\n",
       "}\n",
       "\n",
       "#sk-container-id-2 input.sk-toggleable__control:checked~label.sk-toggleable__label-arrow:before {\n",
       "  content: \"▾\";\n",
       "}\n",
       "\n",
       "/* Pipeline/ColumnTransformer-specific style */\n",
       "\n",
       "#sk-container-id-2 div.sk-label input.sk-toggleable__control:checked~label.sk-toggleable__label {\n",
       "  color: var(--sklearn-color-text);\n",
       "  background-color: var(--sklearn-color-unfitted-level-2);\n",
       "}\n",
       "\n",
       "#sk-container-id-2 div.sk-label.fitted input.sk-toggleable__control:checked~label.sk-toggleable__label {\n",
       "  background-color: var(--sklearn-color-fitted-level-2);\n",
       "}\n",
       "\n",
       "/* Estimator-specific style */\n",
       "\n",
       "/* Colorize estimator box */\n",
       "#sk-container-id-2 div.sk-estimator input.sk-toggleable__control:checked~label.sk-toggleable__label {\n",
       "  /* unfitted */\n",
       "  background-color: var(--sklearn-color-unfitted-level-2);\n",
       "}\n",
       "\n",
       "#sk-container-id-2 div.sk-estimator.fitted input.sk-toggleable__control:checked~label.sk-toggleable__label {\n",
       "  /* fitted */\n",
       "  background-color: var(--sklearn-color-fitted-level-2);\n",
       "}\n",
       "\n",
       "#sk-container-id-2 div.sk-label label.sk-toggleable__label,\n",
       "#sk-container-id-2 div.sk-label label {\n",
       "  /* The background is the default theme color */\n",
       "  color: var(--sklearn-color-text-on-default-background);\n",
       "}\n",
       "\n",
       "/* On hover, darken the color of the background */\n",
       "#sk-container-id-2 div.sk-label:hover label.sk-toggleable__label {\n",
       "  color: var(--sklearn-color-text);\n",
       "  background-color: var(--sklearn-color-unfitted-level-2);\n",
       "}\n",
       "\n",
       "/* Label box, darken color on hover, fitted */\n",
       "#sk-container-id-2 div.sk-label.fitted:hover label.sk-toggleable__label.fitted {\n",
       "  color: var(--sklearn-color-text);\n",
       "  background-color: var(--sklearn-color-fitted-level-2);\n",
       "}\n",
       "\n",
       "/* Estimator label */\n",
       "\n",
       "#sk-container-id-2 div.sk-label label {\n",
       "  font-family: monospace;\n",
       "  font-weight: bold;\n",
       "  display: inline-block;\n",
       "  line-height: 1.2em;\n",
       "}\n",
       "\n",
       "#sk-container-id-2 div.sk-label-container {\n",
       "  text-align: center;\n",
       "}\n",
       "\n",
       "/* Estimator-specific */\n",
       "#sk-container-id-2 div.sk-estimator {\n",
       "  font-family: monospace;\n",
       "  border: 1px dotted var(--sklearn-color-border-box);\n",
       "  border-radius: 0.25em;\n",
       "  box-sizing: border-box;\n",
       "  margin-bottom: 0.5em;\n",
       "  /* unfitted */\n",
       "  background-color: var(--sklearn-color-unfitted-level-0);\n",
       "}\n",
       "\n",
       "#sk-container-id-2 div.sk-estimator.fitted {\n",
       "  /* fitted */\n",
       "  background-color: var(--sklearn-color-fitted-level-0);\n",
       "}\n",
       "\n",
       "/* on hover */\n",
       "#sk-container-id-2 div.sk-estimator:hover {\n",
       "  /* unfitted */\n",
       "  background-color: var(--sklearn-color-unfitted-level-2);\n",
       "}\n",
       "\n",
       "#sk-container-id-2 div.sk-estimator.fitted:hover {\n",
       "  /* fitted */\n",
       "  background-color: var(--sklearn-color-fitted-level-2);\n",
       "}\n",
       "\n",
       "/* Specification for estimator info (e.g. \"i\" and \"?\") */\n",
       "\n",
       "/* Common style for \"i\" and \"?\" */\n",
       "\n",
       ".sk-estimator-doc-link,\n",
       "a:link.sk-estimator-doc-link,\n",
       "a:visited.sk-estimator-doc-link {\n",
       "  float: right;\n",
       "  font-size: smaller;\n",
       "  line-height: 1em;\n",
       "  font-family: monospace;\n",
       "  background-color: var(--sklearn-color-background);\n",
       "  border-radius: 1em;\n",
       "  height: 1em;\n",
       "  width: 1em;\n",
       "  text-decoration: none !important;\n",
       "  margin-left: 1ex;\n",
       "  /* unfitted */\n",
       "  border: var(--sklearn-color-unfitted-level-1) 1pt solid;\n",
       "  color: var(--sklearn-color-unfitted-level-1);\n",
       "}\n",
       "\n",
       ".sk-estimator-doc-link.fitted,\n",
       "a:link.sk-estimator-doc-link.fitted,\n",
       "a:visited.sk-estimator-doc-link.fitted {\n",
       "  /* fitted */\n",
       "  border: var(--sklearn-color-fitted-level-1) 1pt solid;\n",
       "  color: var(--sklearn-color-fitted-level-1);\n",
       "}\n",
       "\n",
       "/* On hover */\n",
       "div.sk-estimator:hover .sk-estimator-doc-link:hover,\n",
       ".sk-estimator-doc-link:hover,\n",
       "div.sk-label-container:hover .sk-estimator-doc-link:hover,\n",
       ".sk-estimator-doc-link:hover {\n",
       "  /* unfitted */\n",
       "  background-color: var(--sklearn-color-unfitted-level-3);\n",
       "  color: var(--sklearn-color-background);\n",
       "  text-decoration: none;\n",
       "}\n",
       "\n",
       "div.sk-estimator.fitted:hover .sk-estimator-doc-link.fitted:hover,\n",
       ".sk-estimator-doc-link.fitted:hover,\n",
       "div.sk-label-container:hover .sk-estimator-doc-link.fitted:hover,\n",
       ".sk-estimator-doc-link.fitted:hover {\n",
       "  /* fitted */\n",
       "  background-color: var(--sklearn-color-fitted-level-3);\n",
       "  color: var(--sklearn-color-background);\n",
       "  text-decoration: none;\n",
       "}\n",
       "\n",
       "/* Span, style for the box shown on hovering the info icon */\n",
       ".sk-estimator-doc-link span {\n",
       "  display: none;\n",
       "  z-index: 9999;\n",
       "  position: relative;\n",
       "  font-weight: normal;\n",
       "  right: .2ex;\n",
       "  padding: .5ex;\n",
       "  margin: .5ex;\n",
       "  width: min-content;\n",
       "  min-width: 20ex;\n",
       "  max-width: 50ex;\n",
       "  color: var(--sklearn-color-text);\n",
       "  box-shadow: 2pt 2pt 4pt #999;\n",
       "  /* unfitted */\n",
       "  background: var(--sklearn-color-unfitted-level-0);\n",
       "  border: .5pt solid var(--sklearn-color-unfitted-level-3);\n",
       "}\n",
       "\n",
       ".sk-estimator-doc-link.fitted span {\n",
       "  /* fitted */\n",
       "  background: var(--sklearn-color-fitted-level-0);\n",
       "  border: var(--sklearn-color-fitted-level-3);\n",
       "}\n",
       "\n",
       ".sk-estimator-doc-link:hover span {\n",
       "  display: block;\n",
       "}\n",
       "\n",
       "/* \"?\"-specific style due to the `<a>` HTML tag */\n",
       "\n",
       "#sk-container-id-2 a.estimator_doc_link {\n",
       "  float: right;\n",
       "  font-size: 1rem;\n",
       "  line-height: 1em;\n",
       "  font-family: monospace;\n",
       "  background-color: var(--sklearn-color-background);\n",
       "  border-radius: 1rem;\n",
       "  height: 1rem;\n",
       "  width: 1rem;\n",
       "  text-decoration: none;\n",
       "  /* unfitted */\n",
       "  color: var(--sklearn-color-unfitted-level-1);\n",
       "  border: var(--sklearn-color-unfitted-level-1) 1pt solid;\n",
       "}\n",
       "\n",
       "#sk-container-id-2 a.estimator_doc_link.fitted {\n",
       "  /* fitted */\n",
       "  border: var(--sklearn-color-fitted-level-1) 1pt solid;\n",
       "  color: var(--sklearn-color-fitted-level-1);\n",
       "}\n",
       "\n",
       "/* On hover */\n",
       "#sk-container-id-2 a.estimator_doc_link:hover {\n",
       "  /* unfitted */\n",
       "  background-color: var(--sklearn-color-unfitted-level-3);\n",
       "  color: var(--sklearn-color-background);\n",
       "  text-decoration: none;\n",
       "}\n",
       "\n",
       "#sk-container-id-2 a.estimator_doc_link.fitted:hover {\n",
       "  /* fitted */\n",
       "  background-color: var(--sklearn-color-fitted-level-3);\n",
       "}\n",
       "</style><div id=\"sk-container-id-2\" class=\"sk-top-container\"><div class=\"sk-text-repr-fallback\"><pre>PLSRegression()</pre><b>In a Jupyter environment, please rerun this cell to show the HTML representation or trust the notebook. <br />On GitHub, the HTML representation is unable to render, please try loading this page with nbviewer.org.</b></div><div class=\"sk-container\" hidden><div class=\"sk-item\"><div class=\"sk-estimator fitted sk-toggleable\"><input class=\"sk-toggleable__control sk-hidden--visually\" id=\"sk-estimator-id-2\" type=\"checkbox\" checked><label for=\"sk-estimator-id-2\" class=\"sk-toggleable__label fitted sk-toggleable__label-arrow fitted\">&nbsp;&nbsp;PLSRegression<a class=\"sk-estimator-doc-link fitted\" rel=\"noreferrer\" target=\"_blank\" href=\"https://scikit-learn.org/1.5/modules/generated/sklearn.cross_decomposition.PLSRegression.html\">?<span>Documentation for PLSRegression</span></a><span class=\"sk-estimator-doc-link fitted\">i<span>Fitted</span></span></label><div class=\"sk-toggleable__content fitted\"><pre>PLSRegression()</pre></div> </div></div></div></div>"
      ],
      "text/plain": [
       "PLSRegression()"
      ]
     },
     "execution_count": 108,
     "metadata": {},
     "output_type": "execute_result"
    }
   ],
   "source": [
    "X = dat_copy.iloc[:, :-1]\n",
    "y = dat_copy.iloc[:, -1]\n",
    "\n",
    "pls = PLSRegression(n_components=2)\n",
    "pls.fit(X, y)"
   ]
  },
  {
   "cell_type": "code",
   "execution_count": 109,
   "id": "f02d6aa4-6c8a-450a-b13b-a095124f0010",
   "metadata": {},
   "outputs": [
    {
     "name": "stdout",
     "output_type": "stream",
     "text": [
      "    Feature  Importance\n",
      "50       50    0.014405\n",
      "57       57    0.005469\n",
      "8         8    0.002654\n",
      "1         1    0.000920\n",
      "41       41    0.000500\n",
      "..      ...         ...\n",
      "24       24   -0.001589\n",
      "55       55   -0.012295\n",
      "2         2   -0.013066\n",
      "38       38   -0.013998\n",
      "28       28   -0.024179\n",
      "\n",
      "[64 rows x 2 columns]\n"
     ]
    }
   ],
   "source": [
    "# Коэффициенты признаков\n",
    "feature_importances = pls.coef_.flatten()  # Получаем коэффициенты как одномерный массив\n",
    "feature_names = X.columns\n",
    "\n",
    "# Создаём DataFrame для удобного отображения\n",
    "importance_df = pd.DataFrame({\n",
    "    'Feature': feature_names,\n",
    "    'Importance': feature_importances\n",
    "})\n",
    "\n",
    "# Сортируем по важности\n",
    "importance_df = importance_df.sort_values(by='Importance', ascending=False)\n",
    "print(importance_df)"
   ]
  },
  {
   "cell_type": "code",
   "execution_count": 110,
   "id": "7da4c930-774b-4b35-8440-40deec4354fe",
   "metadata": {},
   "outputs": [
    {
     "data": {
      "image/png": "[encoded data removed]",
      "text/plain": [
       "<Figure size 1000x600 with 1 Axes>"
      ]
     },
     "metadata": {},
     "output_type": "display_data"
    }
   ],
   "source": [
    "plt.figure(figsize=(10, 6))\n",
    "plt.barh(importance_df['Feature'], importance_df['Importance'], color='teal')\n",
    "plt.xlabel('Importance')\n",
    "plt.ylabel('Feature')\n",
    "plt.title('Feature Importance based on PLS Regression')\n",
    "plt.gca().invert_yaxis()  # Переворачиваем порядок для удобного отображения\n",
    "plt.show()"
   ]
  },
  {
   "cell_type": "code",
   "execution_count": 111,
   "id": "c655fb0b-9ab2-4b71-9923-2dcdb2bd9c64",
   "metadata": {},
   "outputs": [
    {
     "data": {
      "image/png": "[encoded data removed]",
      "text/plain": [
       "<Figure size 800x600 with 1 Axes>"
      ]
     },
     "metadata": {},
     "output_type": "display_data"
    }
   ],
   "source": [
    "X_scores, Y_scores = pls.transform(X, y)\n",
    "\n",
    "plt.figure(figsize=(8, 6))\n",
    "plt.scatter(X_scores[:, 0], Y_scores[:, 0], color='blue', label='Latent Factor 1')\n",
    "plt.scatter(X_scores[:, 1], Y_scores[:, 1], color='orange', label='Latent Factor 2')\n",
    "plt.xlabel('X Scores')\n",
    "plt.ylabel('Y Scores')\n",
    "plt.legend()\n",
    "plt.title('PLS Latent Factors')\n",
    "plt.show()"
   ]
  },
  {
   "cell_type": "code",
   "execution_count": 112,
   "id": "35b2e6e1-ba03-4242-aa11-d53bb471d5f4",
   "metadata": {},
   "outputs": [],
   "source": [
    "X_latent = pls.transform(X)\n",
    "inertia = []\n",
    "k_range = range(1, 11)  # Диапазон для количества кластеров\n",
    "\n",
    "for k in k_range:\n",
    "    kmeans = KMeans(n_clusters=k, random_state=0)\n",
    "    kmeans.fit(X_latent)\n",
    "    inertia.append(kmeans.inertia_)"
   ]
  },
  {
   "cell_type": "code",
   "execution_count": 113,
   "id": "0655a059-a167-4139-8710-e5e5a612da4c",
   "metadata": {},
   "outputs": [
    {
     "data": {
      "image/png": "[encoded data removed]",
      "text/plain": [
       "<Figure size 800x500 with 1 Axes>"
      ]
     },
     "metadata": {},
     "output_type": "display_data"
    }
   ],
   "source": [
    "plt.figure(figsize=(8, 5))\n",
    "plt.plot(k_range, inertia, marker='o')\n",
    "plt.xlabel('Количество кластеров')\n",
    "plt.ylabel('Инерция (сумма квадратов расстояний до центроидов)')\n",
    "plt.title('Метод локтя для выбора числа кластеров')\n",
    "plt.show()"
   ]
  },
  {
   "cell_type": "code",
   "execution_count": 114,
   "id": "940bbbd8-2019-4484-98f5-235e882b0da5",
   "metadata": {},
   "outputs": [],
   "source": [
    "optimal_k = 3\n",
    "kmeans = KMeans(n_clusters=optimal_k, random_state=0)\n",
    "clusters = kmeans.fit_predict(X_latent)"
   ]
  },
  {
   "cell_type": "code",
   "execution_count": 115,
   "id": "37251f78-bc24-492a-8a39-43016168afe9",
   "metadata": {},
   "outputs": [],
   "source": [
    "data_pls_filled = dat.copy()\n",
    "data_clusters_filled = dat.copy()"
   ]
  },
  {
   "cell_type": "code",
   "execution_count": 116,
   "id": "81ee426b-2dca-4f35-94c7-f4616ae2ffa7",
   "metadata": {},
   "outputs": [],
   "source": [
    "data_clusters_filled['Cluster'] = clusters\n",
    "missing_cols2 = data_clusters_filled.columns[data_clusters_filled.isna().any()]\n",
    "\n",
    "# Заполнение пропусков по каждому кластеру\n",
    "for cluster_id in range(optimal_k):\n",
    "    cluster_data = data_clusters_filled[data_clusters_filled['Cluster'] == cluster_id]\n",
    "    for col in missing_cols2:\n",
    "        # Проверяем, есть ли хотя бы одно ненулевое значение в колонке для кластера\n",
    "        if cluster_data[col].notna().sum() > 0:\n",
    "            cluster_median = cluster_data[col].median()\n",
    "            data_clusters_filled.loc[data_clusters_filled['Cluster'] == cluster_id, col] = cluster_data[col].fillna(cluster_median)\n",
    "data_clusters_filled = data_clusters_filled.fillna(dat_copy.median())"
   ]
  },
  {
   "cell_type": "code",
   "execution_count": 117,
   "id": "2924e725-b8f5-4656-bc44-e16956d5c569",
   "metadata": {},
   "outputs": [],
   "source": [
    "# Получаем важные признаки из PLS\n",
    "important_features = importance_df['Feature'][:5]  # например, топ-5 признаков\n",
    "\n",
    "# Выбираем только те признаки, которые содержат пропуски\n",
    "missing_cols = data_pls_filled.columns[data_pls_filled.isna().any()]\n",
    "\n",
    "# Заполняем пропуски в этих признаках их средними значениями\n",
    "for feature in missing_cols:\n",
    "    mean_value = data_pls_filled[feature].mean()\n",
    "    data_pls_filled.fillna({feature: mean_value}, inplace=True)"
   ]
  },
  {
   "cell_type": "code",
   "execution_count": 118,
   "id": "75f57f44-1045-421d-8c24-e4acd3e43949",
   "metadata": {},
   "outputs": [],
   "source": [
    "# Копируем данные для внесения искусственных пропусков\n",
    "data_with_missing_pls = data_pls_filled.copy()\n",
    "data_with_missing_clusters = data_clusters_filled.copy()\n",
    "\n",
    "# Количество пропусков (например, 5% от общего числа значений)\n",
    "total_values = data_with_missing_pls.size\n",
    "num_missing = int(total_values * 0.05)\n",
    "\n",
    "# Генерируем случайные позиции для пропусков\n",
    "np.random.seed(0)\n",
    "missing_positions = (np.random.randint(0, data_with_missing_pls.shape[0], num_missing),\n",
    "                     np.random.randint(0, data_with_missing_pls.shape[1], num_missing))\n",
    "# Сохраняем оригинальные значения\n",
    "original_values_pls = data_with_missing_pls.values[missing_positions]\n",
    "original_values_clusters = data_with_missing_clusters.values[missing_positions]\n",
    "\n",
    "# Устанавливаем значения в NaN на выбранных позициях\n",
    "data_with_missing_pls.values[missing_positions] = np.nan\n",
    "data_with_missing_clusters.values[missing_positions] = np.nan  # тот же пропуск в обеих копиях"
   ]
  },
  {
   "cell_type": "code",
   "execution_count": 119,
   "id": "aae02212-3b8b-4eef-8529-6f0148fef9f6",
   "metadata": {},
   "outputs": [],
   "source": [
    "missing_cols = data_pls_filled.columns[data_pls_filled.isna().any()]\n",
    "\n",
    "# Заполняем пропуски в этих признаках их средними значениями\n",
    "for feature in missing_cols:\n",
    "    mean_value = data_pls_filled[feature].mean()\n",
    "    data_pls_filled.fillna({feature: mean_value}, inplace=True)"
   ]
  },
  {
   "cell_type": "code",
   "execution_count": 120,
   "id": "9f241b8f-d383-46b2-8e1a-4c36f3bd5e3e",
   "metadata": {},
   "outputs": [],
   "source": [
    "for cluster_id in range(optimal_k):\n",
    "    cluster_data = data_clusters_filled[data_clusters_filled['Cluster'] == cluster_id]\n",
    "    for col in missing_cols2:\n",
    "        # Проверяем, есть ли хотя бы одно ненулевое значение в колонке для кластера\n",
    "        if cluster_data[col].notna().sum() > 0:\n",
    "            cluster_median = cluster_data[col].median()\n",
    "            data_clusters_filled.loc[data_clusters_filled['Cluster'] == cluster_id, col] = cluster_data[col].fillna(cluster_median)\n",
    "data_clusters_filled = data_clusters_filled.fillna(dat_copy.median())\n",
    "data_clusters_filled.drop(columns=['Cluster'], inplace=True)"
   ]
  },
  {
   "cell_type": "code",
   "execution_count": 121,
   "id": "6cc167ad-1e32-4dae-8666-2e99bae99d67",
   "metadata": {},
   "outputs": [
    {
     "name": "stdout",
     "output_type": "stream",
     "text": [
      "Оставшиеся пропуски после заполнения: 0\n",
      "Оставшиеся пропуски после заполнения: 0\n"
     ]
    }
   ],
   "source": [
    "print(\"Оставшиеся пропуски после заполнения:\", data_pls_filled.isna().sum().sum())\n",
    "print(\"Оставшиеся пропуски после заполнения:\", data_clusters_filled.isna().sum().sum())"
   ]
  },
  {
   "cell_type": "code",
   "execution_count": 122,
   "id": "f0eb298b-94fe-4358-892f-612a35eebd93",
   "metadata": {},
   "outputs": [
    {
     "name": "stdout",
     "output_type": "stream",
     "text": [
      "Оставшиеся пропуски после заполнения в PLS: 0\n",
      "Оставшиеся пропуски после заполнения в Clusters: 0\n"
     ]
    }
   ],
   "source": [
    "print(\"Оставшиеся пропуски после заполнения в PLS:\", np.isnan(original_values_pls).sum())\n",
    "print(\"Оставшиеся пропуски после заполнения в Clusters:\", np.isnan(original_values_clusters).sum())"
   ]
  },
  {
   "cell_type": "code",
   "execution_count": 123,
   "id": "63d8f606-13a0-4550-b504-4b2208351c4d",
   "metadata": {},
   "outputs": [
    {
     "name": "stdout",
     "output_type": "stream",
     "text": [
      "MSE после PLS: 0.0\n",
      "MSE после кластерного заполнения: 0.0\n"
     ]
    }
   ],
   "source": [
    "# Собираем только значения на тех позициях, где были искусственно внесены пропуски\n",
    "test_values_pls = data_pls_filled.values[missing_positions]\n",
    "test_values_clusters = data_clusters_filled.values[missing_positions]\n",
    "\n",
    "# Вычисляем MSE, если размеры совпадают\n",
    "print(\"MSE после PLS:\", mean_squared_error(original_values_pls, test_values_pls))\n",
    "print(\"MSE после кластерного заполнения:\", mean_squared_error(original_values_clusters, test_values_clusters))"
   ]
  },
  {
   "cell_type": "code",
   "execution_count": 124,
   "id": "267f3363-72dd-4f8b-8042-b4c9f2c8b26a",
   "metadata": {},
   "outputs": [],
   "source": [
    "# MSE выдал сомнительные результаты, а я итак иследовал болшьше чем мне пока нужно. \n",
    "# Поэтому, чтобы быстрее освоить практические задачи, я решил заполнить понятной мне медеанной.   \n",
    "dat = dat.fillna(dat.median())"
   ]
  },
  {
   "cell_type": "code",
   "execution_count": 125,
   "id": "527e8d36-3b04-49ea-b4c7-5f6b4e6ce4d6",
   "metadata": {},
   "outputs": [
    {
     "name": "stdout",
     "output_type": "stream",
     "text": [
      "Оставшиеся пропуски после заполнения: 0\n"
     ]
    }
   ],
   "source": [
    "print(\"Оставшиеся пропуски после заполнения:\", dat.isna().sum().sum())"
   ]
  },
  {
   "cell_type": "code",
   "execution_count": 126,
   "id": "04c5457d-5cea-4286-b466-3890e8bab6fe",
   "metadata": {},
   "outputs": [
    {
     "name": "stdout",
     "output_type": "stream",
     "text": [
      "60\n"
     ]
    }
   ],
   "source": [
    "print(dat.duplicated().sum())"
   ]
  },
  {
   "cell_type": "code",
   "execution_count": 127,
   "id": "d87f6f73-78d1-4cee-b116-15c4040574c1",
   "metadata": {},
   "outputs": [],
   "source": [
    "dat.drop_duplicates(inplace=True)"
   ]
  },
  {
   "cell_type": "code",
   "execution_count": 128,
   "id": "ad1f101c-10c5-47b9-b1b1-e210dbf24eef",
   "metadata": {},
   "outputs": [
    {
     "name": "stdout",
     "output_type": "stream",
     "text": [
      "Количество выбросов по каждому признаку:\n",
      "0     681\n",
      "1     161\n",
      "2     186\n",
      "3     570\n",
      "4     669\n",
      "     ... \n",
      "60    472\n",
      "61    431\n",
      "62    400\n",
      "63    796\n",
      "64    408\n",
      "Length: 65, dtype: int64\n"
     ]
    }
   ],
   "source": [
    "# Определяем выбросы ниже 25-го перцентиля - 1.5 * IQR или выше 75-го перцентиля + 1.5 * IQR\n",
    "outliers = ((dat < (dat.quantile(0.25) - 1.5 * (dat.quantile(0.75) - dat.quantile(0.25)))) |\n",
    "            (dat > (dat.quantile(0.75) + 1.5 * (dat.quantile(0.75) - dat.quantile(0.25)))))\n",
    "\n",
    "print(\"Количество выбросов по каждому признаку:\")\n",
    "print(outliers.sum())"
   ]
  },
  {
   "cell_type": "code",
   "execution_count": 129,
   "id": "2e16d388-0454-4be9-b2a7-89d976962fde",
   "metadata": {},
   "outputs": [
    {
     "name": "stdout",
     "output_type": "stream",
     "text": [
      "38516\n"
     ]
    }
   ],
   "source": [
    "print(outliers.sum().sum())"
   ]
  },
  {
   "cell_type": "code",
   "execution_count": 130,
   "id": "d70cfebe-4573-44e1-ad83-9b1a7bb93912",
   "metadata": {},
   "outputs": [],
   "source": [
    "#Отображаю все графики, чтобы узнать асимметрию. Будет долго грузиться, поэтому закоментил\n",
    "#for col in missing_cols:\n",
    "    #plt.figure(figsize=(8, 5))\n",
    "    #plt.hist(dat[col], bins=5000, edgecolor='k')\n",
    "    #plt.title(f'Гистограмма для признака {col}')\n",
    "    #plt.xlabel(col)\n",
    "    #plt.ylabel('Частота')\n",
    "    #plt.show()"
   ]
  },
  {
   "cell_type": "code",
   "execution_count": 131,
   "id": "dbeec749-f7ed-4b18-b3c1-be60df5b7096",
   "metadata": {},
   "outputs": [],
   "source": [
    "# Поскольку это данные для машинного обучения, мы исказим их, чтобы они были более нормальными и устойчивы к выбросам\n",
    "\n",
    "# Для логарифмической трансформации, если асимметрия больше направлена вправо\n",
    "for index in [1, 19, 32, 35, 42, 43, 46, 50, 51, 60, 62]:\n",
    "    dat.iloc[:, index] = np.log1p(dat.iloc[:, index].clip(lower=1e-5))\n",
    "\n",
    "# Применение обратного преобразования для признаков с отрицательной асимметрией\n",
    "for index in [2]:\n",
    "    dat.iloc[:, index] = 1 / (dat.iloc[:, index] + 1e-5)\n",
    "\n",
    "# Для боксовой трансформации, если хвосты асимметричны с обеих сторон\n",
    "for index in [8, 9, 23, 24, 37, 38, 41, 48, 54, 55, 56, 57, 58]:\n",
    "    dat.iloc[:, index], _ = stats.boxcox(dat.iloc[:, index].clip(lower=1e-5) + 1)  # Добавляем 1, чтобы избежать нулей"
   ]
  },
  {
   "cell_type": "code",
   "execution_count": 132,
   "id": "3ae72f65-1b66-42e7-acf0-e99c8771ba1f",
   "metadata": {},
   "outputs": [
    {
     "name": "stdout",
     "output_type": "stream",
     "text": [
      "<bound method NDFrame.head of             0         1          2         3         4         5         6   \\\n",
      "0     0.367680  0.244497  21.119457 -0.345986 -0.727076  3.187847  0.404481   \n",
      "1    -0.467667  0.079250   0.395464 -0.028448  0.061748  0.000000 -0.478614   \n",
      "2     0.739199 -0.620078  -0.237649  1.072437  1.297103  1.748823  0.806213   \n",
      "3    -1.208450  0.938550   0.252442 -0.070984 -0.612847 -0.689287 -1.117883   \n",
      "4     0.013348  0.234550   1.630905 -0.223641 -0.254438  0.000000  0.021220   \n",
      "...        ...       ...        ...       ...       ...       ...       ...   \n",
      "5845 -0.298723  0.577666   5.695968 -0.262833 -0.210474  0.000000 -0.324554   \n",
      "5846 -5.525818  1.087368  -0.974548 -0.814504 -0.736244 -5.387483 -4.843616   \n",
      "5847 -1.996555  1.577427  -1.561738 -0.496703 -1.312109 -1.668764 -1.613877   \n",
      "5848 -1.375705  0.656040  15.328940 -0.309096 -0.189816 -1.014586 -1.264660   \n",
      "5849 -1.344835  0.201767  -6.092027 -0.403936 -0.613671 -0.982059 -1.270462   \n",
      "\n",
      "            7         8         9   ...        55        56        57  \\\n",
      "0    -0.252601 -0.081095 -0.553181  ...  0.238306  0.547963 -0.276997   \n",
      "1    -0.037949  0.191318 -0.018195  ... -0.635930 -0.647640  0.460192   \n",
      "2     0.843667  0.000900  0.353342  ...  0.515824  0.316468 -0.666743   \n",
      "3    -0.451455  0.190916 -1.269845  ...  1.180897 -0.647640 -3.654748   \n",
      "4    -0.146883  0.484281 -0.186518  ...  0.938938 -0.014706 -1.684911   \n",
      "...        ...       ...       ...  ...       ...       ...       ...   \n",
      "5845 -0.323957  0.654970 -0.635292  ... -0.360169 -0.351091  0.522418   \n",
      "5846 -0.685925 -0.330443 -1.751001  ... -0.635930  1.291937  0.943370   \n",
      "5847 -0.622680  0.050305 -1.751001  ...  0.639143  0.965268 -0.898966   \n",
      "5848 -0.452378 -0.508665 -1.348648  ... -0.635930 -0.647640  1.850085   \n",
      "5849 -0.125775 -0.311452 -0.149527  ... -0.635930 -0.647640  0.848312   \n",
      "\n",
      "            58        59        60        61        62        63   64  \n",
      "0    -0.027547 -0.157158 -0.338490  0.930775 -0.635147 -0.121324  0.0  \n",
      "1     0.782799 -0.262025 -0.775556  0.503943 -0.403971 -0.105366  0.0  \n",
      "2    -0.042979 -0.021871 -0.879310 -0.030730  0.035670  0.219977  0.0  \n",
      "3     1.812217 -0.123272 -0.756430  0.995569 -0.664594  0.264986  0.0  \n",
      "4     0.733633  0.095847 -0.514394  0.440364 -0.362527 -0.106495  0.0  \n",
      "...        ...       ...       ...       ...       ...       ...  ...  \n",
      "5845  1.755121  0.393918  0.928154 -0.333292  0.437288 -0.263076  1.0  \n",
      "5846 -0.042979  9.036379  2.752207  0.100060 -0.094891  0.149333  1.0  \n",
      "5847 -0.042979  0.072260 -0.702767  1.809681 -0.952144  0.846982  1.0  \n",
      "5848  1.818492  0.430710 -0.025435  0.125734 -0.118384 -0.454646  1.0  \n",
      "5849 -0.018639 -0.116091 -0.342882  0.850997 -0.597166 -0.188887  1.0  \n",
      "\n",
      "[5850 rows x 65 columns]>\n"
     ]
    }
   ],
   "source": [
    "# Применяем RobustScaler ко всем признакам, кроме 64-го столбца\n",
    "scaler = RobustScaler()\n",
    "X_scaled = scaler.fit_transform(dat.drop(dat.columns[64], axis=1))  # Все столбцы, кроме 64-го\n",
    "\n",
    "# вернуть в датафрейм\n",
    "dat_scaled = pd.DataFrame(X_scaled, columns=dat.columns[:-1])\n",
    "dat_scaled[dat.columns[64]] = dat[dat.columns[64]]  # Добавляем целевой столбец обратно\n",
    "\n",
    "# Теперь у вас есть \"обработанные\" данные\n",
    "print(dat_scaled.head)"
   ]
  },
  {
   "cell_type": "code",
   "execution_count": 133,
   "id": "841cc5f1-d9d0-41b9-a3b5-f69d57a416f0",
   "metadata": {},
   "outputs": [
    {
     "name": "stdout",
     "output_type": "stream",
     "text": [
      "32805\n"
     ]
    }
   ],
   "source": [
    "outliers = ((dat < (dat.quantile(0.25) - 1.5 * (dat.quantile(0.75) - dat.quantile(0.25)))) |\n",
    "            (dat > (dat.quantile(0.75) + 1.5 * (dat.quantile(0.75) - dat.quantile(0.25)))))\n",
    "print(outliers.sum().sum())"
   ]
  },
  {
   "cell_type": "code",
   "execution_count": 134,
   "id": "25d50e6e-196f-4341-ae9f-1f67d745453b",
   "metadata": {},
   "outputs": [
    {
     "name": "stdout",
     "output_type": "stream",
     "text": [
      "32745\n"
     ]
    }
   ],
   "source": [
    "outliers2 = ((dat_scaled < (dat_scaled.quantile(0.25) - 1.5 * (dat_scaled.quantile(0.75) - dat_scaled.quantile(0.25)))) |\n",
    "            (dat_scaled > (dat_scaled.quantile(0.75) + 1.5 * (dat_scaled.quantile(0.75) - dat_scaled.quantile(0.25)))))\n",
    "print(outliers2.sum().sum())"
   ]
  },
  {
   "cell_type": "code",
   "execution_count": 135,
   "id": "74268080-aaea-49fc-89a7-d8432cdb4c6a",
   "metadata": {},
   "outputs": [],
   "source": [
    "dat = dat_scaled #чтобы не запутаться"
   ]
  },
  {
   "cell_type": "code",
   "execution_count": 136,
   "id": "3a6740a2-addd-4ae2-9598-b9a65cc0bd21",
   "metadata": {},
   "outputs": [],
   "source": [
    "#Выбросы и раньше на графиках были малозаметны и второй метод не дал значительного улучшения, так что с обработкой выбросов решил закончить\n",
    "#Можно было ещё на метрики для модели поиследовать, но мне нужно было данные обработать, а добиваться качества модели относительно отдельный этап\n",
    "\n",
    "#Некорректные значения тоже не были заметны в таблице и на графиках, к тому же я не знаю что значат признаки\n",
    "#Так что этот шаг я считаю обработан вместе с выбросами\n",
    "\n",
    "#Поскольку я ничего не знаю про признаки, модель, задачи и ресурсы проекта, я решил не удалять признаки с высокой корреляцией\n",
    "#Так что из неинформативных признаков я решил обработать лишь с низкой дисперсией"
   ]
  },
  {
   "cell_type": "code",
   "execution_count": 137,
   "id": "432a938b-4e63-4758-a86d-02419e5add10",
   "metadata": {},
   "outputs": [
    {
     "name": "stdout",
     "output_type": "stream",
     "text": [
      "64    5.650094e-02\n",
      "41    2.642184e-01\n",
      "38    2.969423e-01\n",
      "23    3.012249e-01\n",
      "48    3.223222e-01\n",
      "          ...     \n",
      "36    3.924673e+05\n",
      "31    6.265112e+05\n",
      "26    8.103264e+06\n",
      "59    3.135075e+07\n",
      "44    4.310087e+07\n",
      "Length: 65, dtype: float64\n"
     ]
    }
   ],
   "source": [
    "variances = dat.var()  # Вычисление дисперсий для всех признаков\n",
    "print(variances.sort_values())  # Вывод дисперсий по возрастанию"
   ]
  },
  {
   "cell_type": "code",
   "execution_count": 138,
   "id": "174a2212-a2ac-46f7-950a-ad695158e4a7",
   "metadata": {},
   "outputs": [
    {
     "name": "stdout",
     "output_type": "stream",
     "text": [
      "Index([51, 35, 60,  2, 29, 52, 53, 61, 14, 33, 63, 39,  3, 45, 49, 31,  7, 16,\n",
      "       59, 20, 44, 12, 40, 27,  8, 30, 22, 18, 15, 25, 36, 11, 26, 58, 42, 56,\n",
      "        4,  6, 13, 17, 43, 19,  5, 47, 21, 10,  0, 34, 32, 46],\n",
      "      dtype='int64')\n"
     ]
    }
   ],
   "source": [
    "#С низкой дисперсией нет, проверю есть ли признаки, которые не коррелируют\n",
    "correlation = dat.corr()[64].sort_values(ascending=False)\n",
    "low_corr_features = correlation[correlation.abs() <= 0.1].index\n",
    "print(low_corr_features)"
   ]
  },
  {
   "cell_type": "code",
   "execution_count": 139,
   "id": "18180533-b07f-45c2-ae37-df4ca1e4011d",
   "metadata": {},
   "outputs": [],
   "source": [
    "#Их много, требуется дополнительная проверка, но удалять всё равно не собирался, так что пусть это было чисто для практики"
   ]
  },
  {
   "cell_type": "code",
   "execution_count": 140,
   "id": "afccac1d-953a-4565-b865-c905be2b0a4d",
   "metadata": {},
   "outputs": [],
   "source": [
    "# Применение стандартизации к данным\n",
    "dat = StandardScaler().fit_transform(dat)\n",
    "\n",
    "# Преобразуем массив обратно в DataFrame\n",
    "dat = pd.DataFrame(dat)"
   ]
  },
  {
   "cell_type": "code",
   "execution_count": 141,
   "id": "f745114f-74dc-4a9b-a413-542f91a8f208",
   "metadata": {},
   "outputs": [],
   "source": [
    "#На этапе проверки данных была обнаружена потеря значений (NaN) вероятно, из-за промежуточных операций (масштабирование, удаление дубликатов и т.д.).\n",
    "dat = dat.fillna(dat.median())\n",
    "X = dat.drop(columns=64)\n",
    "y = dat[64]"
   ]
  },
  {
   "cell_type": "code",
   "execution_count": 142,
   "id": "99adae7c-a0f9-4305-af38-efb97c454916",
   "metadata": {},
   "outputs": [
    {
     "name": "stdout",
     "output_type": "stream",
     "text": [
      "Размер тренировочного набора: (4680, 64)\n",
      "Размер тестового набора: (1170, 64)\n"
     ]
    }
   ],
   "source": [
    "# Разделение на тренировочный и тестовый наборы\n",
    "X_train, X_test, y_train, y_test = train_test_split(X, y, test_size=0.2, random_state=42)\n",
    "\n",
    "print(f\"Размер тренировочного набора: {X_train.shape}\")\n",
    "print(f\"Размер тестового набора: {X_test.shape}\")"
   ]
  },
  {
   "cell_type": "code",
   "execution_count": 143,
   "id": "d32df871-6624-409e-affb-34f5264cd886",
   "metadata": {},
   "outputs": [
    {
     "name": "stdout",
     "output_type": "stream",
     "text": [
      "Признаки с низкой корреляцией:\n",
      "Index([ 0,  2,  3,  4,  5,  6,  7,  8,  9, 10, 11, 12, 13, 14, 15, 16, 17, 18,\n",
      "       19, 20, 21, 22, 23, 25, 26, 27, 28, 29, 30, 31, 32, 33, 34, 35, 36, 38,\n",
      "       39, 40, 41, 42, 43, 44, 45, 46, 47, 48, 49, 51, 52, 53, 55, 56, 57, 58,\n",
      "       59, 60, 61, 62, 63],\n",
      "      dtype='int64')\n"
     ]
    }
   ],
   "source": [
    "correlation = dat.corr()[64]  # 64 — целевая переменная (банкротство)\n",
    "low_corr_features = correlation[correlation.abs() < 0.2].index\n",
    "\n",
    "print(\"Признаки с низкой корреляцией:\")\n",
    "print(low_corr_features)"
   ]
  },
  {
   "cell_type": "code",
   "execution_count": 144,
   "id": "aa5f98b3-290f-4e4f-a883-c8f3390e79de",
   "metadata": {},
   "outputs": [
    {
     "name": "stdout",
     "output_type": "stream",
     "text": [
      "Пары признаков с высокой корреляцией:\n",
      "[(0, 10), (0, 21), (0, 34), (0, 47), (3, 7), (3, 11), (3, 15), (3, 16), (3, 25), (3, 33), (3, 39), (3, 45), (3, 49), (6, 13), (6, 17), (7, 3), (7, 16), (7, 45), (7, 49), (10, 0), (10, 21), (10, 34), (10, 47), (11, 3), (11, 15), (11, 25), (11, 39), (11, 45), (13, 6), (13, 17), (15, 3), (15, 11), (15, 25), (15, 33), (15, 39), (15, 45), (15, 49), (16, 3), (16, 7), (16, 45), (16, 49), (17, 6), (17, 13), (18, 22), (18, 30), (19, 46), (21, 0), (21, 10), (21, 34), (21, 47), (22, 18), (22, 30), (25, 3), (25, 11), (25, 15), (25, 33), (25, 39), (25, 45), (25, 49), (27, 53), (27, 63), (29, 61), (30, 18), (30, 22), (32, 62), (33, 3), (33, 15), (33, 25), (33, 39), (33, 45), (33, 49), (34, 0), (34, 10), (34, 21), (34, 47), (39, 3), (39, 11), (39, 15), (39, 25), (39, 33), (39, 45), (39, 49), (41, 48), (43, 60), (44, 59), (45, 3), (45, 7), (45, 11), (45, 15), (45, 16), (45, 25), (45, 33), (45, 39), (45, 49), (46, 19), (47, 0), (47, 10), (47, 21), (47, 34), (48, 41), (49, 3), (49, 7), (49, 15), (49, 16), (49, 25), (49, 33), (49, 39), (49, 45), (52, 53), (52, 63), (53, 27), (53, 52), (53, 63), (59, 44), (60, 43), (61, 29), (62, 32), (63, 27), (63, 52), (63, 53)]\n"
     ]
    }
   ],
   "source": [
    "# Построение матрицы корреляций\n",
    "correlation_matrix = dat.corr()\n",
    "\n",
    "# Выявление пар признаков с высокой корреляцией\n",
    "high_corr_pairs = [\n",
    "    (i, j) for i in correlation_matrix.columns for j in correlation_matrix.columns \n",
    "    if i != j and abs(correlation_matrix.loc[i, j]) > 0.9\n",
    "]\n",
    "\n",
    "print(\"Пары признаков с высокой корреляцией:\")\n",
    "print(high_corr_pairs)"
   ]
  },
  {
   "cell_type": "code",
   "execution_count": 145,
   "id": "45a01793-4a5f-4a12-a03f-f6b2703ffbd5",
   "metadata": {},
   "outputs": [
    {
     "name": "stdout",
     "output_type": "stream",
     "text": [
      "Важные признаки:\n",
      "Index([ 0,  1,  2,  3,  4,  5,  6,  8, 10, 11, 12, 13, 14, 15, 16, 17, 18, 19,\n",
      "       20, 21, 22, 23, 25, 26, 27, 28, 29, 30, 32, 33, 34, 35, 39, 40, 42, 43,\n",
      "       44, 45, 46, 47, 49, 50, 52, 53, 54, 55, 57, 59, 60, 61, 62, 63],\n",
      "      dtype='int64')\n"
     ]
    }
   ],
   "source": [
    "# Построение модели Random Forest\n",
    "rf = RandomForestClassifier(random_state=42)\n",
    "y = (y > 0.5).astype(int)  # Преобразуем все значения > 0.5 в 1, иначе 0 (Стандартизация изменила значения)\n",
    "rf.fit(X, y)\n",
    "\n",
    "feature_importances = rf.feature_importances_ # Оценка важности признаков\n",
    "threshold = 0.01  # Установите порог важности\n",
    "important_features = X.columns[feature_importances > threshold]\n",
    "\n",
    "print(\"Важные признаки:\")\n",
    "print(important_features)"
   ]
  },
  {
   "cell_type": "code",
   "execution_count": 146,
   "id": "91466cd5-03c3-4c86-ae08-16036aa51af1",
   "metadata": {},
   "outputs": [],
   "source": [
    "# Итоги\n",
    "\n",
    "# В процессе работы над проектом были выполнены следующие шаги:\n",
    "# 1. Изначально данные были в формате .arff. \n",
    "#в процессе обработке удалены заголовки, лишние символы, данные транспонированы и приведены к подходящим типам для анализа.\n",
    "# 1. Обработка пропусков: иследоваласть возможность применить к данным заполнение на основе кластеров и PLS.\n",
    "# 2. Работа с выбросами: использование обратного преобразования, логарифмической, боксовой трансформаций и RobustScaler.\n",
    "# 3. Нормализация: применение StandardScaler и RobustScaler для приведения данных к единой шкале.\n",
    "# 4. Анализ корреляций: выявление признаков с низкой дисперсией и корреляцией с целевым признаком (< 0.2).\n",
    "# 5. Определение важности признаков.\n",
    "\n",
    "# Основные результаты:\n",
    "# - После обработки данных их структура стала пригодной для построения моделей машинного обучения.\n",
    "# - Структура данных не позволила применить весь инструмент для обработки пропусков и выбросов.\n",
    "# - Анализ показал, что отсутствуют признаки с высокой значимостью, что может указывать на необходимость более сложного подхода для построения моделей.\n",
    "# - Признаки с низкой корреляцией не всегда оказывались малозначимыми для моделей, что подтверждает сложные зависимости между переменными.\n",
    "# - Результаты подчёркивают необходимость глубокого исследования структуры данных и возможные нелинейные связи значимых признаков.\n",
    "\n",
    "# Что можно улучшить:\n",
    "# - Дополнительно в будущем можно было бы исследовать более сложные методы, как анализ нелинейных зависимостей или использовать другие модели\n",
    "# - Для более глубокого анализа необходимо получить больше информации о значении каждого признака"
   ]
  },
  {
   "cell_type": "code",
   "execution_count": null,
   "id": "0e5d82b7-5809-4153-8d4f-0618608eef91",
   "metadata": {},
   "outputs": [],
   "source": []
  }
 ],
 "metadata": {
  "kernelspec": {
   "display_name": "Python 3 (ipykernel)",
   "language": "python",
   "name": "python3"
  },
  "language_info": {
   "codemirror_mode": {
    "name": "ipython",
    "version": 3
   },
   "file_extension": ".py",
   "mimetype": "text/x-python",
   "name": "python",
   "nbconvert_exporter": "python",
   "pygments_lexer": "ipython3",
   "version": "3.12.4"
  }
 },
 "nbformat": 4,
 "nbformat_minor": 5
}
